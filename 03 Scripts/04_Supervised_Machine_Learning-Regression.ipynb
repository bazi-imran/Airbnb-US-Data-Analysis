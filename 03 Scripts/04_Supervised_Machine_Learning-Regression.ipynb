{
 "cells": [
  {
   "cell_type": "markdown",
   "id": "a39c572c",
   "metadata": {},
   "source": [
    "# 1&2. Import libraries"
   ]
  },
  {
   "cell_type": "code",
   "execution_count": 1,
   "id": "86ccf2d9",
   "metadata": {},
   "outputs": [],
   "source": [
    "import pandas as pd\n",
    "import numpy as np\n",
    "import seaborn as sns\n",
    "import matplotlib\n",
    "import matplotlib.pyplot as plt\n",
    "import os\n",
    "import sklearn\n",
    "from sklearn.model_selection import train_test_split\n",
    "from sklearn.linear_model import LinearRegression\n",
    "from sklearn.metrics import mean_squared_error, r2_score"
   ]
  },
  {
   "cell_type": "code",
   "execution_count": 2,
   "id": "6afceeda",
   "metadata": {},
   "outputs": [],
   "source": [
    "# This option ensures that the graphs you create are displayed within the notebook without the need to \"call\" them specifically.\n",
    "%matplotlib inline"
   ]
  },
  {
   "cell_type": "code",
   "execution_count": 3,
   "id": "7d655fe8",
   "metadata": {},
   "outputs": [],
   "source": [
    "path = '/Users/bazillaimran/Documents/03-2024 Airbnb US Analysis'"
   ]
  },
  {
   "cell_type": "code",
   "execution_count": 4,
   "id": "1beaef99",
   "metadata": {},
   "outputs": [],
   "source": [
    "df = pd.read_csv(os.path.join(path,'02 Data','Prepared Data','df_with_states.csv'))"
   ]
  },
  {
   "cell_type": "markdown",
   "id": "870cc70d",
   "metadata": {},
   "source": [
    "# 3. Data Cleaning"
   ]
  },
  {
   "cell_type": "code",
   "execution_count": 5,
   "id": "a167c5b4",
   "metadata": {},
   "outputs": [
    {
     "data": {
      "text/plain": [
       "Index(['Unnamed: 0', 'listing_id', 'listing_name', 'host_id', 'host_name',\n",
       "       'neighborhood', 'latitude', 'longitude', 'room_type', 'price',\n",
       "       'minimum_nights', 'number_of_reviews', 'last_review',\n",
       "       'reviews_per_month', 'calculated_host_listings_count',\n",
       "       'availability_365', 'last_12_month_reviews_count', 'city',\n",
       "       'rental_type', 'price_category', 'listings_per_host',\n",
       "       'booking_requirement', 'popularity', 'coordinates', 'state'],\n",
       "      dtype='object')"
      ]
     },
     "execution_count": 5,
     "metadata": {},
     "output_type": "execute_result"
    }
   ],
   "source": [
    "df.columns"
   ]
  },
  {
   "cell_type": "code",
   "execution_count": 6,
   "id": "dad3fb62",
   "metadata": {},
   "outputs": [
    {
     "data": {
      "text/html": [
       "<div>\n",
       "<style scoped>\n",
       "    .dataframe tbody tr th:only-of-type {\n",
       "        vertical-align: middle;\n",
       "    }\n",
       "\n",
       "    .dataframe tbody tr th {\n",
       "        vertical-align: top;\n",
       "    }\n",
       "\n",
       "    .dataframe thead th {\n",
       "        text-align: right;\n",
       "    }\n",
       "</style>\n",
       "<table border=\"1\" class=\"dataframe\">\n",
       "  <thead>\n",
       "    <tr style=\"text-align: right;\">\n",
       "      <th></th>\n",
       "      <th>Unnamed: 0</th>\n",
       "      <th>listing_id</th>\n",
       "      <th>listing_name</th>\n",
       "      <th>host_id</th>\n",
       "      <th>host_name</th>\n",
       "      <th>neighborhood</th>\n",
       "      <th>latitude</th>\n",
       "      <th>longitude</th>\n",
       "      <th>room_type</th>\n",
       "      <th>price</th>\n",
       "      <th>...</th>\n",
       "      <th>availability_365</th>\n",
       "      <th>last_12_month_reviews_count</th>\n",
       "      <th>city</th>\n",
       "      <th>rental_type</th>\n",
       "      <th>price_category</th>\n",
       "      <th>listings_per_host</th>\n",
       "      <th>booking_requirement</th>\n",
       "      <th>popularity</th>\n",
       "      <th>coordinates</th>\n",
       "      <th>state</th>\n",
       "    </tr>\n",
       "  </thead>\n",
       "  <tbody>\n",
       "    <tr>\n",
       "      <th>0</th>\n",
       "      <td>0</td>\n",
       "      <td>958</td>\n",
       "      <td>Bright, Modern Garden Unit - 1BR/1BTH</td>\n",
       "      <td>1169</td>\n",
       "      <td>Holly</td>\n",
       "      <td>Western Addition</td>\n",
       "      <td>37.77028</td>\n",
       "      <td>-122.43317</td>\n",
       "      <td>Entire home/apt</td>\n",
       "      <td>202</td>\n",
       "      <td>...</td>\n",
       "      <td>128</td>\n",
       "      <td>59</td>\n",
       "      <td>San Francisco</td>\n",
       "      <td>Vacation Rental</td>\n",
       "      <td>mid-price</td>\n",
       "      <td>500 or less</td>\n",
       "      <td>less than 1 week</td>\n",
       "      <td>booked half year</td>\n",
       "      <td>(37.77028, -122.43317)</td>\n",
       "      <td>California</td>\n",
       "    </tr>\n",
       "    <tr>\n",
       "      <th>1</th>\n",
       "      <td>1</td>\n",
       "      <td>5858</td>\n",
       "      <td>Creative Sanctuary</td>\n",
       "      <td>8904</td>\n",
       "      <td>Philip And Tania</td>\n",
       "      <td>Bernal Heights</td>\n",
       "      <td>37.74474</td>\n",
       "      <td>-122.42089</td>\n",
       "      <td>Entire home/apt</td>\n",
       "      <td>235</td>\n",
       "      <td>...</td>\n",
       "      <td>365</td>\n",
       "      <td>0</td>\n",
       "      <td>San Francisco</td>\n",
       "      <td>Vacation Rental</td>\n",
       "      <td>mid-price</td>\n",
       "      <td>500 or less</td>\n",
       "      <td>over 3 weeks</td>\n",
       "      <td>unbooked</td>\n",
       "      <td>(37.74474, -122.42089)</td>\n",
       "      <td>California</td>\n",
       "    </tr>\n",
       "    <tr>\n",
       "      <th>2</th>\n",
       "      <td>2</td>\n",
       "      <td>8339</td>\n",
       "      <td>Historic Alamo Square Victorian</td>\n",
       "      <td>24215</td>\n",
       "      <td>Rosy</td>\n",
       "      <td>Western Addition</td>\n",
       "      <td>37.77564</td>\n",
       "      <td>-122.43642</td>\n",
       "      <td>Entire home/apt</td>\n",
       "      <td>575</td>\n",
       "      <td>...</td>\n",
       "      <td>365</td>\n",
       "      <td>0</td>\n",
       "      <td>San Francisco</td>\n",
       "      <td>Vacation Rental</td>\n",
       "      <td>high price</td>\n",
       "      <td>500 or less</td>\n",
       "      <td>1-3 weeks</td>\n",
       "      <td>unbooked</td>\n",
       "      <td>(37.77564, -122.43642)</td>\n",
       "      <td>California</td>\n",
       "    </tr>\n",
       "    <tr>\n",
       "      <th>3</th>\n",
       "      <td>3</td>\n",
       "      <td>8739</td>\n",
       "      <td>Mission Sunshine, with Private Bath</td>\n",
       "      <td>7149</td>\n",
       "      <td>Ivan &amp; Wendy</td>\n",
       "      <td>Mission</td>\n",
       "      <td>37.76030</td>\n",
       "      <td>-122.42197</td>\n",
       "      <td>Private room</td>\n",
       "      <td>110</td>\n",
       "      <td>...</td>\n",
       "      <td>159</td>\n",
       "      <td>34</td>\n",
       "      <td>San Francisco</td>\n",
       "      <td>Vacation Rental</td>\n",
       "      <td>low price</td>\n",
       "      <td>500 or less</td>\n",
       "      <td>less than 1 week</td>\n",
       "      <td>booked half year</td>\n",
       "      <td>(37.7603, -122.42197)</td>\n",
       "      <td>California</td>\n",
       "    </tr>\n",
       "    <tr>\n",
       "      <th>4</th>\n",
       "      <td>4</td>\n",
       "      <td>10537</td>\n",
       "      <td>Elegant &amp; Cozy w/City views. Private room: Purple</td>\n",
       "      <td>36752</td>\n",
       "      <td>Teresa</td>\n",
       "      <td>Bayview</td>\n",
       "      <td>37.71750</td>\n",
       "      <td>-122.39698</td>\n",
       "      <td>Private room</td>\n",
       "      <td>95</td>\n",
       "      <td>...</td>\n",
       "      <td>365</td>\n",
       "      <td>1</td>\n",
       "      <td>San Francisco</td>\n",
       "      <td>Vacation Rental</td>\n",
       "      <td>low price</td>\n",
       "      <td>500 or less</td>\n",
       "      <td>less than 1 week</td>\n",
       "      <td>unbooked</td>\n",
       "      <td>(37.7175, -122.39698)</td>\n",
       "      <td>California</td>\n",
       "    </tr>\n",
       "  </tbody>\n",
       "</table>\n",
       "<p>5 rows × 25 columns</p>\n",
       "</div>"
      ],
      "text/plain": [
       "   Unnamed: 0  listing_id                                       listing_name  \\\n",
       "0           0         958              Bright, Modern Garden Unit - 1BR/1BTH   \n",
       "1           1        5858                                 Creative Sanctuary   \n",
       "2           2        8339                    Historic Alamo Square Victorian   \n",
       "3           3        8739                Mission Sunshine, with Private Bath   \n",
       "4           4       10537  Elegant & Cozy w/City views. Private room: Purple   \n",
       "\n",
       "   host_id         host_name      neighborhood  latitude  longitude  \\\n",
       "0     1169             Holly  Western Addition  37.77028 -122.43317   \n",
       "1     8904  Philip And Tania    Bernal Heights  37.74474 -122.42089   \n",
       "2    24215              Rosy  Western Addition  37.77564 -122.43642   \n",
       "3     7149      Ivan & Wendy           Mission  37.76030 -122.42197   \n",
       "4    36752            Teresa           Bayview  37.71750 -122.39698   \n",
       "\n",
       "         room_type  price  ...  availability_365  last_12_month_reviews_count  \\\n",
       "0  Entire home/apt    202  ...               128                           59   \n",
       "1  Entire home/apt    235  ...               365                            0   \n",
       "2  Entire home/apt    575  ...               365                            0   \n",
       "3     Private room    110  ...               159                           34   \n",
       "4     Private room     95  ...               365                            1   \n",
       "\n",
       "            city      rental_type  price_category  listings_per_host  \\\n",
       "0  San Francisco  Vacation Rental       mid-price        500 or less   \n",
       "1  San Francisco  Vacation Rental       mid-price        500 or less   \n",
       "2  San Francisco  Vacation Rental      high price        500 or less   \n",
       "3  San Francisco  Vacation Rental       low price        500 or less   \n",
       "4  San Francisco  Vacation Rental       low price        500 or less   \n",
       "\n",
       "   booking_requirement        popularity             coordinates       state  \n",
       "0     less than 1 week  booked half year  (37.77028, -122.43317)  California  \n",
       "1         over 3 weeks          unbooked  (37.74474, -122.42089)  California  \n",
       "2            1-3 weeks          unbooked  (37.77564, -122.43642)  California  \n",
       "3     less than 1 week  booked half year   (37.7603, -122.42197)  California  \n",
       "4     less than 1 week          unbooked   (37.7175, -122.39698)  California  \n",
       "\n",
       "[5 rows x 25 columns]"
      ]
     },
     "execution_count": 6,
     "metadata": {},
     "output_type": "execute_result"
    }
   ],
   "source": [
    "df.head()"
   ]
  },
  {
   "cell_type": "code",
   "execution_count": 7,
   "id": "ddb9b7a3",
   "metadata": {},
   "outputs": [
    {
     "data": {
      "text/plain": [
       "(204454, 25)"
      ]
     },
     "execution_count": 7,
     "metadata": {},
     "output_type": "execute_result"
    }
   ],
   "source": [
    "df.shape"
   ]
  },
  {
   "cell_type": "code",
   "execution_count": 8,
   "id": "183b1ab5",
   "metadata": {},
   "outputs": [],
   "source": [
    "# Drop columns in df_ords_prods_combined (not necessary) \n",
    "df = df.drop(columns = ['Unnamed: 0'])"
   ]
  },
  {
   "cell_type": "markdown",
   "id": "85177ac3",
   "metadata": {},
   "source": [
    "### Missing Values"
   ]
  },
  {
   "cell_type": "code",
   "execution_count": 9,
   "id": "b786048a",
   "metadata": {},
   "outputs": [
    {
     "data": {
      "text/plain": [
       "listing_id                         0\n",
       "listing_name                      16\n",
       "host_id                            0\n",
       "host_name                          0\n",
       "neighborhood                       0\n",
       "latitude                           0\n",
       "longitude                          0\n",
       "room_type                          0\n",
       "price                              0\n",
       "minimum_nights                     0\n",
       "number_of_reviews                  0\n",
       "last_review                        0\n",
       "reviews_per_month                  0\n",
       "calculated_host_listings_count     0\n",
       "availability_365                   0\n",
       "last_12_month_reviews_count        0\n",
       "city                               0\n",
       "rental_type                        0\n",
       "price_category                     0\n",
       "listings_per_host                  0\n",
       "booking_requirement                0\n",
       "popularity                         0\n",
       "coordinates                        0\n",
       "state                              0\n",
       "dtype: int64"
      ]
     },
     "execution_count": 9,
     "metadata": {},
     "output_type": "execute_result"
    }
   ],
   "source": [
    "# Check for missing values\n",
    "\n",
    "df.isnull().sum()\n",
    "\n",
    "# No missing values to handle"
   ]
  },
  {
   "cell_type": "markdown",
   "id": "ee7e3f0c",
   "metadata": {},
   "source": [
    "### Duplicates check"
   ]
  },
  {
   "cell_type": "code",
   "execution_count": 10,
   "id": "7f0b222f",
   "metadata": {},
   "outputs": [],
   "source": [
    "dups = df.duplicated()"
   ]
  },
  {
   "cell_type": "code",
   "execution_count": 11,
   "id": "3b596e53",
   "metadata": {},
   "outputs": [
    {
     "data": {
      "text/plain": [
       "(204454,)"
      ]
     },
     "execution_count": 11,
     "metadata": {},
     "output_type": "execute_result"
    }
   ],
   "source": [
    "dups.shape # No dups"
   ]
  },
  {
   "cell_type": "markdown",
   "id": "b3bbb31a",
   "metadata": {},
   "source": [
    "# 4. Exploring data visually"
   ]
  },
  {
   "cell_type": "code",
   "execution_count": 12,
   "id": "840d5a2d",
   "metadata": {},
   "outputs": [
    {
     "data": {
      "image/png": "[encoded data removed]",
      "text/plain": [
       "<Figure size 640x480 with 1 Axes>"
      ]
     },
     "metadata": {},
     "output_type": "display_data"
    }
   ],
   "source": [
    "# Hypothesis: As the number of minimum nights increases the monthly reviews for the listing would decrease.\n",
    "# Create a scatterplot using matplotlib for another look at how the chosen variables plot against each other.\n",
    "\n",
    "df.plot(x = 'minimum_nights', y='reviews_per_month',style='o') # The style option creates a scatterplot; without it, we only have lines.\n",
    "plt.title('minimum nights vs number_of_reviews')  \n",
    "plt.xlabel('minimum_nights')  \n",
    "plt.ylabel('number_of_reviews')  \n",
    "plt.show()"
   ]
  },
  {
   "cell_type": "code",
   "execution_count": 28,
   "id": "7c735f0f",
   "metadata": {},
   "outputs": [],
   "source": [
    "# Reshape the variables into NumPy arrays and put them into separate objects.\n",
    "\n",
    "X = df['minimum_nights'].values.reshape(-1,1)\n",
    "y = df['number_of_reviews'].values.reshape(-1,1)"
   ]
  },
  {
   "cell_type": "code",
   "execution_count": 29,
   "id": "f3794bd3",
   "metadata": {},
   "outputs": [
    {
     "data": {
      "text/plain": [
       "array([[ 2],\n",
       "       [30],\n",
       "       [ 9],\n",
       "       ...,\n",
       "       [ 1],\n",
       "       [ 2],\n",
       "       [ 2]])"
      ]
     },
     "execution_count": 29,
     "metadata": {},
     "output_type": "execute_result"
    }
   ],
   "source": [
    "X"
   ]
  },
  {
   "cell_type": "code",
   "execution_count": 30,
   "id": "30c01027",
   "metadata": {},
   "outputs": [
    {
     "data": {
      "text/plain": [
       "array([[383],\n",
       "       [111],\n",
       "       [ 28],\n",
       "       ...,\n",
       "       [  0],\n",
       "       [  0],\n",
       "       [  0]])"
      ]
     },
     "execution_count": 30,
     "metadata": {},
     "output_type": "execute_result"
    }
   ],
   "source": [
    "y"
   ]
  },
  {
   "cell_type": "code",
   "execution_count": 31,
   "id": "9fd12f92",
   "metadata": {},
   "outputs": [],
   "source": [
    "# Split data into a training set and a test set.\n",
    "\n",
    "X_train, X_test, y_train, y_test = train_test_split(X, y, test_size=0.3, random_state=0)"
   ]
  },
  {
   "cell_type": "code",
   "execution_count": 32,
   "id": "ca666ffa",
   "metadata": {},
   "outputs": [],
   "source": [
    "# Create a regression object.\n",
    "\n",
    "regression = LinearRegression()  # This is the regression object, which will be fit onto the training set."
   ]
  },
  {
   "cell_type": "code",
   "execution_count": 33,
   "id": "38267882",
   "metadata": {},
   "outputs": [
    {
     "data": {
      "text/html": [
       "<style>#sk-container-id-2 {color: black;}#sk-container-id-2 pre{padding: 0;}#sk-container-id-2 div.sk-toggleable {background-color: white;}#sk-container-id-2 label.sk-toggleable__label {cursor: pointer;display: block;width: 100%;margin-bottom: 0;padding: 0.3em;box-sizing: border-box;text-align: center;}#sk-container-id-2 label.sk-toggleable__label-arrow:before {content: \"▸\";float: left;margin-right: 0.25em;color: #696969;}#sk-container-id-2 label.sk-toggleable__label-arrow:hover:before {color: black;}#sk-container-id-2 div.sk-estimator:hover label.sk-toggleable__label-arrow:before {color: black;}#sk-container-id-2 div.sk-toggleable__content {max-height: 0;max-width: 0;overflow: hidden;text-align: left;background-color: #f0f8ff;}#sk-container-id-2 div.sk-toggleable__content pre {margin: 0.2em;color: black;border-radius: 0.25em;background-color: #f0f8ff;}#sk-container-id-2 input.sk-toggleable__control:checked~div.sk-toggleable__content {max-height: 200px;max-width: 100%;overflow: auto;}#sk-container-id-2 input.sk-toggleable__control:checked~label.sk-toggleable__label-arrow:before {content: \"▾\";}#sk-container-id-2 div.sk-estimator input.sk-toggleable__control:checked~label.sk-toggleable__label {background-color: #d4ebff;}#sk-container-id-2 div.sk-label input.sk-toggleable__control:checked~label.sk-toggleable__label {background-color: #d4ebff;}#sk-container-id-2 input.sk-hidden--visually {border: 0;clip: rect(1px 1px 1px 1px);clip: rect(1px, 1px, 1px, 1px);height: 1px;margin: -1px;overflow: hidden;padding: 0;position: absolute;width: 1px;}#sk-container-id-2 div.sk-estimator {font-family: monospace;background-color: #f0f8ff;border: 1px dotted black;border-radius: 0.25em;box-sizing: border-box;margin-bottom: 0.5em;}#sk-container-id-2 div.sk-estimator:hover {background-color: #d4ebff;}#sk-container-id-2 div.sk-parallel-item::after {content: \"\";width: 100%;border-bottom: 1px solid gray;flex-grow: 1;}#sk-container-id-2 div.sk-label:hover label.sk-toggleable__label {background-color: #d4ebff;}#sk-container-id-2 div.sk-serial::before {content: \"\";position: absolute;border-left: 1px solid gray;box-sizing: border-box;top: 0;bottom: 0;left: 50%;z-index: 0;}#sk-container-id-2 div.sk-serial {display: flex;flex-direction: column;align-items: center;background-color: white;padding-right: 0.2em;padding-left: 0.2em;position: relative;}#sk-container-id-2 div.sk-item {position: relative;z-index: 1;}#sk-container-id-2 div.sk-parallel {display: flex;align-items: stretch;justify-content: center;background-color: white;position: relative;}#sk-container-id-2 div.sk-item::before, #sk-container-id-2 div.sk-parallel-item::before {content: \"\";position: absolute;border-left: 1px solid gray;box-sizing: border-box;top: 0;bottom: 0;left: 50%;z-index: -1;}#sk-container-id-2 div.sk-parallel-item {display: flex;flex-direction: column;z-index: 1;position: relative;background-color: white;}#sk-container-id-2 div.sk-parallel-item:first-child::after {align-self: flex-end;width: 50%;}#sk-container-id-2 div.sk-parallel-item:last-child::after {align-self: flex-start;width: 50%;}#sk-container-id-2 div.sk-parallel-item:only-child::after {width: 0;}#sk-container-id-2 div.sk-dashed-wrapped {border: 1px dashed gray;margin: 0 0.4em 0.5em 0.4em;box-sizing: border-box;padding-bottom: 0.4em;background-color: white;}#sk-container-id-2 div.sk-label label {font-family: monospace;font-weight: bold;display: inline-block;line-height: 1.2em;}#sk-container-id-2 div.sk-label-container {text-align: center;}#sk-container-id-2 div.sk-container {/* jupyter's `normalize.less` sets `[hidden] { display: none; }` but bootstrap.min.css set `[hidden] { display: none !important; }` so we also need the `!important` here to be able to override the default hidden behavior on the sphinx rendered scikit-learn.org. See: https://github.com/scikit-learn/scikit-learn/issues/21755 */display: inline-block !important;position: relative;}#sk-container-id-2 div.sk-text-repr-fallback {display: none;}</style><div id=\"sk-container-id-2\" class=\"sk-top-container\"><div class=\"sk-text-repr-fallback\"><pre>LinearRegression()</pre><b>In a Jupyter environment, please rerun this cell to show the HTML representation or trust the notebook. <br />On GitHub, the HTML representation is unable to render, please try loading this page with nbviewer.org.</b></div><div class=\"sk-container\" hidden><div class=\"sk-item\"><div class=\"sk-estimator sk-toggleable\"><input class=\"sk-toggleable__control sk-hidden--visually\" id=\"sk-estimator-id-2\" type=\"checkbox\" checked><label for=\"sk-estimator-id-2\" class=\"sk-toggleable__label sk-toggleable__label-arrow\">LinearRegression</label><div class=\"sk-toggleable__content\"><pre>LinearRegression()</pre></div></div></div></div></div>"
      ],
      "text/plain": [
       "LinearRegression()"
      ]
     },
     "execution_count": 33,
     "metadata": {},
     "output_type": "execute_result"
    }
   ],
   "source": [
    "regression.fit(X_train, y_train)  # Fit the regression object onto the training set."
   ]
  },
  {
   "cell_type": "code",
   "execution_count": 34,
   "id": "6018570a",
   "metadata": {},
   "outputs": [],
   "source": [
    "# Predict the values of y using X.\n",
    "\n",
    "y_predicted = regression.predict(X_test)"
   ]
  },
  {
   "cell_type": "markdown",
   "id": "91f975fe",
   "metadata": {},
   "source": [
    "# 4. Regression Analysis"
   ]
  },
  {
   "cell_type": "code",
   "execution_count": 35,
   "id": "b39883b0",
   "metadata": {},
   "outputs": [
    {
     "data": {
      "image/png": "[encoded data removed]",
      "text/plain": [
       "<Figure size 640x480 with 1 Axes>"
      ]
     },
     "metadata": {},
     "output_type": "display_data"
    }
   ],
   "source": [
    "# Create a plot that shows the regression line from the model on the test set.\n",
    "\n",
    "plot_test = plt\n",
    "plot_test.scatter(X_test, y_test, color='gray', s = 15)\n",
    "plot_test.plot(X_test, y_predicted, color='red', linewidth =3)\n",
    "plot_test.title('minimum nights Vs number of reviews')\n",
    "plot_test.xlabel('minimum nights')\n",
    "plot_test.ylabel('number of reviews')\n",
    "plot_test.show()"
   ]
  },
  {
   "cell_type": "code",
   "execution_count": 36,
   "id": "a3b15937",
   "metadata": {},
   "outputs": [],
   "source": [
    "# Create objects that contain the model summary statistics.\n",
    "\n",
    "rmse = mean_squared_error(y_test, y_predicted) # This is the mean squared error\n",
    "r2 = r2_score(y_test, y_predicted) # This is the R2 score."
   ]
  },
  {
   "cell_type": "code",
   "execution_count": 37,
   "id": "1cca243d",
   "metadata": {},
   "outputs": [
    {
     "name": "stdout",
     "output_type": "stream",
     "text": [
      "Slope: [[-1.33429433]]\n",
      "Mean squared error:  6727.994919302551\n",
      "R2 score:  0.039711741825040225\n"
     ]
    }
   ],
   "source": [
    "# Print the model summary statistics. This is where you evaluate the performance of the model.\n",
    "\n",
    "print('Slope:' ,regression.coef_)\n",
    "print('Mean squared error: ', rmse)\n",
    "print('R2 score: ', r2)"
   ]
  },
  {
   "cell_type": "markdown",
   "id": "6f0da921",
   "metadata": {},
   "source": [
    "Since the mease square error is extremely high (6728) and the R2 score is only a 3.97%, it's safe to say that a regression may not be the best model to represent this data and can't accurately predict the influence of minimum number of nights on the number of reviews a listing recieves.  "
   ]
  },
  {
   "cell_type": "code",
   "execution_count": 23,
   "id": "d40d7dc3",
   "metadata": {},
   "outputs": [
    {
     "data": {
      "text/html": [
       "<div>\n",
       "<style scoped>\n",
       "    .dataframe tbody tr th:only-of-type {\n",
       "        vertical-align: middle;\n",
       "    }\n",
       "\n",
       "    .dataframe tbody tr th {\n",
       "        vertical-align: top;\n",
       "    }\n",
       "\n",
       "    .dataframe thead th {\n",
       "        text-align: right;\n",
       "    }\n",
       "</style>\n",
       "<table border=\"1\" class=\"dataframe\">\n",
       "  <thead>\n",
       "    <tr style=\"text-align: right;\">\n",
       "      <th></th>\n",
       "      <th>Actual</th>\n",
       "      <th>Predicted</th>\n",
       "    </tr>\n",
       "  </thead>\n",
       "  <tbody>\n",
       "    <tr>\n",
       "      <th>0</th>\n",
       "      <td>3.56</td>\n",
       "      <td>1.882971</td>\n",
       "    </tr>\n",
       "    <tr>\n",
       "      <th>1</th>\n",
       "      <td>0.05</td>\n",
       "      <td>0.292570</td>\n",
       "    </tr>\n",
       "    <tr>\n",
       "      <th>2</th>\n",
       "      <td>3.58</td>\n",
       "      <td>1.828129</td>\n",
       "    </tr>\n",
       "    <tr>\n",
       "      <th>3</th>\n",
       "      <td>0.27</td>\n",
       "      <td>0.292570</td>\n",
       "    </tr>\n",
       "    <tr>\n",
       "      <th>4</th>\n",
       "      <td>0.33</td>\n",
       "      <td>1.170032</td>\n",
       "    </tr>\n",
       "    <tr>\n",
       "      <th>5</th>\n",
       "      <td>0.85</td>\n",
       "      <td>1.828129</td>\n",
       "    </tr>\n",
       "    <tr>\n",
       "      <th>6</th>\n",
       "      <td>0.00</td>\n",
       "      <td>1.718446</td>\n",
       "    </tr>\n",
       "    <tr>\n",
       "      <th>7</th>\n",
       "      <td>0.02</td>\n",
       "      <td>1.828129</td>\n",
       "    </tr>\n",
       "    <tr>\n",
       "      <th>8</th>\n",
       "      <td>0.19</td>\n",
       "      <td>0.292570</td>\n",
       "    </tr>\n",
       "    <tr>\n",
       "      <th>9</th>\n",
       "      <td>0.55</td>\n",
       "      <td>0.292570</td>\n",
       "    </tr>\n",
       "    <tr>\n",
       "      <th>10</th>\n",
       "      <td>2.95</td>\n",
       "      <td>1.773288</td>\n",
       "    </tr>\n",
       "    <tr>\n",
       "      <th>11</th>\n",
       "      <td>0.43</td>\n",
       "      <td>0.292570</td>\n",
       "    </tr>\n",
       "    <tr>\n",
       "      <th>12</th>\n",
       "      <td>2.56</td>\n",
       "      <td>1.773288</td>\n",
       "    </tr>\n",
       "    <tr>\n",
       "      <th>13</th>\n",
       "      <td>0.28</td>\n",
       "      <td>1.773288</td>\n",
       "    </tr>\n",
       "    <tr>\n",
       "      <th>14</th>\n",
       "      <td>2.61</td>\n",
       "      <td>1.828129</td>\n",
       "    </tr>\n",
       "    <tr>\n",
       "      <th>15</th>\n",
       "      <td>0.63</td>\n",
       "      <td>0.347411</td>\n",
       "    </tr>\n",
       "    <tr>\n",
       "      <th>16</th>\n",
       "      <td>1.12</td>\n",
       "      <td>1.828129</td>\n",
       "    </tr>\n",
       "    <tr>\n",
       "      <th>17</th>\n",
       "      <td>0.49</td>\n",
       "      <td>0.292570</td>\n",
       "    </tr>\n",
       "    <tr>\n",
       "      <th>18</th>\n",
       "      <td>0.10</td>\n",
       "      <td>1.828129</td>\n",
       "    </tr>\n",
       "    <tr>\n",
       "      <th>19</th>\n",
       "      <td>0.02</td>\n",
       "      <td>0.292570</td>\n",
       "    </tr>\n",
       "    <tr>\n",
       "      <th>20</th>\n",
       "      <td>0.00</td>\n",
       "      <td>0.292570</td>\n",
       "    </tr>\n",
       "    <tr>\n",
       "      <th>21</th>\n",
       "      <td>6.97</td>\n",
       "      <td>1.882971</td>\n",
       "    </tr>\n",
       "    <tr>\n",
       "      <th>22</th>\n",
       "      <td>1.19</td>\n",
       "      <td>1.773288</td>\n",
       "    </tr>\n",
       "    <tr>\n",
       "      <th>23</th>\n",
       "      <td>1.52</td>\n",
       "      <td>1.828129</td>\n",
       "    </tr>\n",
       "    <tr>\n",
       "      <th>24</th>\n",
       "      <td>3.90</td>\n",
       "      <td>1.882971</td>\n",
       "    </tr>\n",
       "    <tr>\n",
       "      <th>25</th>\n",
       "      <td>0.38</td>\n",
       "      <td>1.882971</td>\n",
       "    </tr>\n",
       "    <tr>\n",
       "      <th>26</th>\n",
       "      <td>3.12</td>\n",
       "      <td>1.663605</td>\n",
       "    </tr>\n",
       "    <tr>\n",
       "      <th>27</th>\n",
       "      <td>5.23</td>\n",
       "      <td>1.882971</td>\n",
       "    </tr>\n",
       "    <tr>\n",
       "      <th>28</th>\n",
       "      <td>1.00</td>\n",
       "      <td>0.292570</td>\n",
       "    </tr>\n",
       "    <tr>\n",
       "      <th>29</th>\n",
       "      <td>1.43</td>\n",
       "      <td>1.882971</td>\n",
       "    </tr>\n",
       "  </tbody>\n",
       "</table>\n",
       "</div>"
      ],
      "text/plain": [
       "    Actual  Predicted\n",
       "0     3.56   1.882971\n",
       "1     0.05   0.292570\n",
       "2     3.58   1.828129\n",
       "3     0.27   0.292570\n",
       "4     0.33   1.170032\n",
       "5     0.85   1.828129\n",
       "6     0.00   1.718446\n",
       "7     0.02   1.828129\n",
       "8     0.19   0.292570\n",
       "9     0.55   0.292570\n",
       "10    2.95   1.773288\n",
       "11    0.43   0.292570\n",
       "12    2.56   1.773288\n",
       "13    0.28   1.773288\n",
       "14    2.61   1.828129\n",
       "15    0.63   0.347411\n",
       "16    1.12   1.828129\n",
       "17    0.49   0.292570\n",
       "18    0.10   1.828129\n",
       "19    0.02   0.292570\n",
       "20    0.00   0.292570\n",
       "21    6.97   1.882971\n",
       "22    1.19   1.773288\n",
       "23    1.52   1.828129\n",
       "24    3.90   1.882971\n",
       "25    0.38   1.882971\n",
       "26    3.12   1.663605\n",
       "27    5.23   1.882971\n",
       "28    1.00   0.292570\n",
       "29    1.43   1.882971"
      ]
     },
     "execution_count": 23,
     "metadata": {},
     "output_type": "execute_result"
    }
   ],
   "source": [
    "# Create a dataframe comparing the actual and predicted values of y.\n",
    "\n",
    "data = pd.DataFrame({'Actual': y_test.flatten(), 'Predicted': y_predicted.flatten()})\n",
    "data.head(30)"
   ]
  },
  {
   "cell_type": "markdown",
   "id": "b199998f",
   "metadata": {},
   "source": [
    "As we can observe, there is a significant difference between the actual and predicted y values. This further supports the notion that the model doesn't adequately explain the relationship between \"minimum nights\" and \"number of reviews\"."
   ]
  },
  {
   "cell_type": "code",
   "execution_count": 24,
   "id": "510a6758",
   "metadata": {},
   "outputs": [],
   "source": [
    "# Predict.\n",
    "\n",
    "y_predicted_train = regression.predict(X_train) # This is predicting X_train!"
   ]
  },
  {
   "cell_type": "code",
   "execution_count": 25,
   "id": "762557e3",
   "metadata": {},
   "outputs": [],
   "source": [
    "rmse = mean_squared_error(y_train, y_predicted_train)\n",
    "r2 = r2_score(y_train, y_predicted_train)"
   ]
  },
  {
   "cell_type": "code",
   "execution_count": 26,
   "id": "80ae038a",
   "metadata": {},
   "outputs": [
    {
     "name": "stdout",
     "output_type": "stream",
     "text": [
      "Slope: [[-0.0548414]]\n",
      "Mean squared error:  3.1923053325159363\n",
      "R2 score:  0.12160460636534687\n"
     ]
    }
   ],
   "source": [
    "print('Slope:' ,regression.coef_)\n",
    "print('Mean squared error: ', rmse)\n",
    "print('R2 score: ', r2)"
   ]
  },
  {
   "cell_type": "code",
   "execution_count": 27,
   "id": "336bae2a",
   "metadata": {},
   "outputs": [
    {
     "data": {
      "image/png": "[encoded data removed]",
      "text/plain": [
       "<Figure size 640x480 with 1 Axes>"
      ]
     },
     "metadata": {},
     "output_type": "display_data"
    }
   ],
   "source": [
    "# Visualizing the training set results.\n",
    "\n",
    "plot_test = plt\n",
    "plot_test.scatter(X_train, y_train, color='green', s = 15)\n",
    "plot_test.plot(X_train, y_predicted_train, color='red', linewidth =3)\n",
    "plot_test.title('minimum nights Vs number of reviews(Train set)')\n",
    "plot_test.xlabel('minimum nights')\n",
    "plot_test.ylabel('number of reviews')\n",
    "plot_test.show()"
   ]
  },
  {
   "cell_type": "markdown",
   "id": "3dd4a40e",
   "metadata": {},
   "source": [
    "The training data set doesn't align well with the prediction line, indicating that the model isn't overfitting, but also suggesting its predictions aren't very reliable. Given the poor performance depicted by the R2 and MSE values, the model clearly needs refinement and iteration."
   ]
  },
  {
   "cell_type": "markdown",
   "id": "ca42bc35",
   "metadata": {},
   "source": [
    "### Conclusion: "
   ]
  },
  {
   "cell_type": "markdown",
   "id": "db9ad90a",
   "metadata": {},
   "source": [
    "> The analysis reveals a negative correlation between the minimum nights required for a listing and the number of reviews it receives, as suggested by the negative slope. However, our Root Square Error (RE) and Mean Squared Error (MSE) values imply that there are numerous other variables that impact the frequency of reviews, not solely the minimum night requirement.\n",
    "\n",
    ">Factors such as location, amenities, pricing, and overall listing quality may also influence the number of reviews a listing receives, regardless of the minimum nights requirement. The low R2 score suggests that the minimum nights requirement accounts for only a small portion of the variability in monthly reviews, indicating that other unconsidered factors play a significant role in review frequency.\n",
    "\n",
    ">This could potentially lead to the presence of confounding variables or omitted variable bias in the analysis, implying that other factors not included in the model could be influencing the relationship between minimum nights and monthly reviews.\n",
    "\n",
    ">Furthermore, the assumption of linearity may not be valid in this case, as the relationship between variables may follow a non-linear or decay curve pattern, which is not captured by the linear regression model. Additionally, outliers or influential data points might disproportionately impact the relationship between the minimum nights requirement and the frequency of monthly reviews. These outliers may represent unique or extreme instances that do not reflect the overall data trend. Despite these challenges, efforts have been made to manage outliers without compromising the accuracy of the data."
   ]
  }
 ],
 "metadata": {
  "kernelspec": {
   "display_name": "Python 3 (ipykernel)",
   "language": "python",
   "name": "python3"
  },
  "language_info": {
   "codemirror_mode": {
    "name": "ipython",
    "version": 3
   },
   "file_extension": ".py",
   "mimetype": "text/x-python",
   "name": "python",
   "nbconvert_exporter": "python",
   "pygments_lexer": "ipython3",
   "version": "3.11.5"
  }
 },
 "nbformat": 4,
 "nbformat_minor": 5
}
